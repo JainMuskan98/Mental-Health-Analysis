{
 "cells": [
  {
   "cell_type": "code",
   "execution_count": 1,
   "id": "eb2319a8",
   "metadata": {},
   "outputs": [],
   "source": [
    "import pandas as pd\n",
    "import numpy as np"
   ]
  },
  {
   "cell_type": "code",
   "execution_count": 11,
   "id": "65841a65",
   "metadata": {},
   "outputs": [],
   "source": [
    "data=pd.read_csv(\"Mental Health Data.csv\")"
   ]
  },
  {
   "cell_type": "code",
   "execution_count": 12,
   "id": "c1c10391",
   "metadata": {},
   "outputs": [
    {
     "data": {
      "text/html": [
       "<div>\n",
       "<style scoped>\n",
       "    .dataframe tbody tr th:only-of-type {\n",
       "        vertical-align: middle;\n",
       "    }\n",
       "\n",
       "    .dataframe tbody tr th {\n",
       "        vertical-align: top;\n",
       "    }\n",
       "\n",
       "    .dataframe thead th {\n",
       "        text-align: right;\n",
       "    }\n",
       "</style>\n",
       "<table border=\"1\" class=\"dataframe\">\n",
       "  <thead>\n",
       "    <tr style=\"text-align: right;\">\n",
       "      <th></th>\n",
       "      <th>Area</th>\n",
       "      <th>Sadness</th>\n",
       "      <th>Loneliness</th>\n",
       "      <th>Overthinking</th>\n",
       "      <th>Mental Health</th>\n",
       "    </tr>\n",
       "  </thead>\n",
       "  <tbody>\n",
       "    <tr>\n",
       "      <th>0</th>\n",
       "      <td>Kota</td>\n",
       "      <td>2</td>\n",
       "      <td>0</td>\n",
       "      <td>0</td>\n",
       "      <td>0</td>\n",
       "    </tr>\n",
       "    <tr>\n",
       "      <th>1</th>\n",
       "      <td>Kota</td>\n",
       "      <td>4</td>\n",
       "      <td>3</td>\n",
       "      <td>4</td>\n",
       "      <td>1</td>\n",
       "    </tr>\n",
       "    <tr>\n",
       "      <th>2</th>\n",
       "      <td>Mumbai</td>\n",
       "      <td>3</td>\n",
       "      <td>1</td>\n",
       "      <td>1</td>\n",
       "      <td>1</td>\n",
       "    </tr>\n",
       "    <tr>\n",
       "      <th>3</th>\n",
       "      <td>Pune</td>\n",
       "      <td>2</td>\n",
       "      <td>3</td>\n",
       "      <td>2</td>\n",
       "      <td>0</td>\n",
       "    </tr>\n",
       "    <tr>\n",
       "      <th>4</th>\n",
       "      <td>Delhi</td>\n",
       "      <td>3</td>\n",
       "      <td>1</td>\n",
       "      <td>4</td>\n",
       "      <td>1</td>\n",
       "    </tr>\n",
       "  </tbody>\n",
       "</table>\n",
       "</div>"
      ],
      "text/plain": [
       "     Area  Sadness  Loneliness  Overthinking  Mental Health\n",
       "0    Kota        2           0             0              0\n",
       "1    Kota        4           3             4              1\n",
       "2  Mumbai        3           1             1              1\n",
       "3    Pune        2           3             2              0\n",
       "4   Delhi        3           1             4              1"
      ]
     },
     "execution_count": 12,
     "metadata": {},
     "output_type": "execute_result"
    }
   ],
   "source": [
    "data.head()"
   ]
  },
  {
   "cell_type": "code",
   "execution_count": 13,
   "id": "856f088f",
   "metadata": {},
   "outputs": [
    {
     "data": {
      "text/plain": [
       "(200, 5)"
      ]
     },
     "execution_count": 13,
     "metadata": {},
     "output_type": "execute_result"
    }
   ],
   "source": [
    "data.shape"
   ]
  },
  {
   "cell_type": "code",
   "execution_count": 14,
   "id": "e955ba25",
   "metadata": {},
   "outputs": [],
   "source": [
    "import matplotlib.pyplot as plt"
   ]
  },
  {
   "cell_type": "code",
   "execution_count": 15,
   "id": "275f7d0b",
   "metadata": {},
   "outputs": [
    {
     "data": {
      "text/plain": [
       "Area             0\n",
       "Sadness          0\n",
       "Loneliness       0\n",
       "Overthinking     0\n",
       "Mental Health    0\n",
       "dtype: int64"
      ]
     },
     "execution_count": 15,
     "metadata": {},
     "output_type": "execute_result"
    }
   ],
   "source": [
    "data.isnull().sum()"
   ]
  },
  {
   "cell_type": "code",
   "execution_count": 16,
   "id": "abbf00f9",
   "metadata": {},
   "outputs": [
    {
     "data": {
      "text/plain": [
       "Area             object\n",
       "Sadness           int64\n",
       "Loneliness        int64\n",
       "Overthinking      int64\n",
       "Mental Health     int64\n",
       "dtype: object"
      ]
     },
     "execution_count": 16,
     "metadata": {},
     "output_type": "execute_result"
    }
   ],
   "source": [
    "data.dtypes"
   ]
  },
  {
   "cell_type": "code",
   "execution_count": 18,
   "id": "6f65ff5c",
   "metadata": {},
   "outputs": [
    {
     "data": {
      "text/plain": [
       "2    53\n",
       "1    47\n",
       "3    37\n",
       "4    32\n",
       "5    31\n",
       "Name: Sadness, dtype: int64"
      ]
     },
     "execution_count": 18,
     "metadata": {},
     "output_type": "execute_result"
    }
   ],
   "source": [
    "data['Sadness'].value_counts()"
   ]
  },
  {
   "cell_type": "markdown",
   "id": "6e684cc6",
   "metadata": {},
   "source": [
    "data visualisation"
   ]
  },
  {
   "cell_type": "code",
   "execution_count": 44,
   "id": "dfdcee61",
   "metadata": {},
   "outputs": [
    {
     "data": {
      "image/png": "[encoded data removed]",
      "text/plain": [
       "<Figure size 432x288 with 1 Axes>"
      ]
     },
     "metadata": {
      "needs_background": "light"
     },
     "output_type": "display_data"
    }
   ],
   "source": [
    "import matplotlib.pyplot as plt\n",
    "\n",
    "# Assuming that data is a pandas dataframe\n",
    "counts_sadness = data['Sadness'].value_counts()\n",
    "\n",
    "# Create a color map based on the counts\n",
    "colors = plt.cm.get_cmap('Reds')(counts_sadness.values / max(counts_sadness.values))\n",
    "\n",
    "# Create a bar chart with custom colors\n",
    "plt.bar(counts_sadness.index, counts_sadness.values, color=colors)\n",
    "\n",
    "# Set the chart title and labels\n",
    "plt.title(\"Scale of sadness emotion\")\n",
    "plt.xlabel(\"Emotion Score\")\n",
    "plt.ylabel(\"Count\")\n",
    "\n",
    "# Show the chart\n",
    "plt.show()\n"
   ]
  },
  {
   "cell_type": "markdown",
   "id": "72d1c007",
   "metadata": {},
   "source": [
    "The people with moderate amount of sadness highest and the people are least with maximum sadness  "
   ]
  },
  {
   "cell_type": "code",
   "execution_count": 40,
   "id": "bdf62309",
   "metadata": {
    "scrolled": true
   },
   "outputs": [
    {
     "data": {
      "image/png": "[encoded data removed]",
      "text/plain": [
       "<Figure size 432x288 with 1 Axes>"
      ]
     },
     "metadata": {
      "needs_background": "light"
     },
     "output_type": "display_data"
    }
   ],
   "source": [
    "import matplotlib.pyplot as plt\n",
    "\n",
    "# Assuming that data is a pandas dataframe\n",
    "counts_Loneliness = data['Loneliness'].value_counts()\n",
    "\n",
    "# Create a color map based on the counts\n",
    "colors = plt.cm.get_cmap('Blues')(counts_Loneliness.values / max(counts_Loneliness.values))\n",
    "\n",
    "# Create a bar chart with custom colors\n",
    "plt.bar(counts_Loneliness.index, counts_Loneliness.values, color=colors)\n",
    "\n",
    "# Set the chart title and labels\n",
    "plt.title(\"Scale of Loneliness emotion\")\n",
    "plt.xlabel(\"Emotion Score\")\n",
    "plt.ylabel(\"Count\")\n",
    "\n",
    "# Show the chart\n",
    "plt.show()\n"
   ]
  },
  {
   "cell_type": "markdown",
   "id": "b0412f4b",
   "metadata": {},
   "source": [
    "There are very less people that are not lonely but many that struggle with loneliness"
   ]
  },
  {
   "cell_type": "code",
   "execution_count": 50,
   "id": "d4e42cfe",
   "metadata": {
    "scrolled": true
   },
   "outputs": [
    {
     "data": {
      "image/png": "[encoded data removed]",
      "text/plain": [
       "<Figure size 432x288 with 1 Axes>"
      ]
     },
     "metadata": {
      "needs_background": "light"
     },
     "output_type": "display_data"
    }
   ],
   "source": [
    "import matplotlib.pyplot as plt\n",
    "\n",
    "# Assuming that data is a pandas dataframe\n",
    "counts_Overthinking = data['Overthinking'].value_counts()\n",
    "\n",
    "# Create a color map based on the counts\n",
    "colors = plt.cm.get_cmap('Purples')(counts_Overthinking.values / max(counts_Overthinking.values))\n",
    "\n",
    "# Create a bar chart with custom colors\n",
    "plt.bar(counts_Overthinking.index, counts_Overthinking.values, color=colors)\n",
    "\n",
    "# Set the chart title and labels\n",
    "plt.title(\"Scale of Overthinking emotion\")\n",
    "plt.xlabel(\"Emotion Score\")\n",
    "plt.ylabel(\"Count\")\n",
    "\n",
    "# Show the chart\n",
    "plt.show()\n"
   ]
  },
  {
   "cell_type": "markdown",
   "id": "97db8937",
   "metadata": {},
   "source": [
    "Maximum people are overthinkers and there are alomost nil that are free from overthinking"
   ]
  },
  {
   "cell_type": "code",
   "execution_count": 34,
   "id": "fa523eaf",
   "metadata": {
    "scrolled": false
   },
   "outputs": [
    {
     "data": {
      "image/png": "[encoded data removed]",
      "text/plain": [
       "<Figure size 432x288 with 1 Axes>"
      ]
     },
     "metadata": {
      "needs_background": "light"
     },
     "output_type": "display_data"
    }
   ],
   "source": [
    "# Assuming that data is a pandas dataframe and 'Country' is a column with country names\n",
    "sadness_by_area = data.groupby('Area')['Sadness'].sum().sort_values(ascending=False)\n",
    "\n",
    "# Create a horizontal bar chart\n",
    "plt.barh(sadness_by_area.index, sadness_by_area.values)\n",
    "\n",
    "# Set the chart title and labels\n",
    "plt.title(\"Sadness by area\")\n",
    "plt.xlabel(\"Sadness Score\")\n",
    "plt.ylabel(\"Country\")\n",
    "\n",
    "# Show the chart\n",
    "plt.show()\n"
   ]
  },
  {
   "cell_type": "markdown",
   "id": "aef7d4bd",
   "metadata": {},
   "source": [
    "Kota has the maximim count people struggling with sadness and Kolkata being the least"
   ]
  },
  {
   "cell_type": "code",
   "execution_count": 56,
   "id": "5af4f725",
   "metadata": {},
   "outputs": [
    {
     "data": {
      "image/png": "[encoded data removed]",
      "text/plain": [
       "<Figure size 432x288 with 1 Axes>"
      ]
     },
     "metadata": {
      "needs_background": "light"
     },
     "output_type": "display_data"
    }
   ],
   "source": [
    "# Assuming that data is a pandas dataframe and 'Country' is a column with country names\n",
    "Loneliness_by_area = data.groupby('Area')['Loneliness'].sum().sort_values(ascending=False)\n",
    "\n",
    "# Create a horizontal bar chart\n",
    "plt.barh(Loneliness_by_area.index, Lonliness_by_area.values)\n",
    "\n",
    "# Set the chart title and labels\n",
    "plt.title(\"Loneliness_by_area\")\n",
    "plt.xlabel(\"Sadness Score\")\n",
    "plt.ylabel(\"Country\")\n",
    "\n",
    "# Show the chart\n",
    "plt.show()"
   ]
  },
  {
   "cell_type": "markdown",
   "id": "5428d0a4",
   "metadata": {},
   "source": [
    "Kota has the maximim count people struggling with loneliness and Kolkata and pune being the least"
   ]
  },
  {
   "cell_type": "code",
   "execution_count": 37,
   "id": "7460fd54",
   "metadata": {},
   "outputs": [
    {
     "data": {
      "image/png": "[encoded data removed]",
      "text/plain": [
       "<Figure size 432x288 with 1 Axes>"
      ]
     },
     "metadata": {
      "needs_background": "light"
     },
     "output_type": "display_data"
    }
   ],
   "source": [
    "# Assuming that data is a pandas dataframe and 'Country' is a column with country names\n",
    "Overthinking_by_area = data.groupby('Area')['Overthinking'].sum().sort_values(ascending=False)\n",
    "\n",
    "# Create a horizontal bar chart\n",
    "plt.barh(Overthinking_by_area.index, Overthinking_by_area.values)\n",
    "\n",
    "# Set the chart title and labels\n",
    "plt.title(\"Overthinking_by_area\")\n",
    "plt.xlabel(\"Overthinking_by_area\")\n",
    "plt.ylabel(\"Country\")\n",
    "\n",
    "# Show the chart\n",
    "plt.show()"
   ]
  },
  {
   "cell_type": "markdown",
   "id": "c1b28135",
   "metadata": {},
   "source": [
    "Kota has the maximim count people struggling with sadness and Kolkata being the least"
   ]
  },
  {
   "cell_type": "code",
   "execution_count": 72,
   "id": "02e27926",
   "metadata": {},
   "outputs": [
    {
     "data": {
      "image/png": "[encoded data removed]",
      "text/plain": [
       "<Figure size 432x288 with 1 Axes>"
      ]
     },
     "metadata": {},
     "output_type": "display_data"
    }
   ],
   "source": [
    "import matplotlib.pyplot as plt\n",
    "\n",
    "# Assuming that data is a pandas dataframe\n",
    "mentalhealth_counts = data['Mental Health'].value_counts()\n",
    "\n",
    "# Create a pie chart\n",
    "plt.pie(mentalhealth_counts.values, labels=mentalhealth_counts.index, autopct='%1.1f%%')\n",
    "\n",
    "plt.title(\"Value Count of Mental Health\")\n",
    "\n",
    "# Show the chart\n",
    "plt.show()\n"
   ]
  },
  {
   "cell_type": "markdown",
   "id": "e4a06720",
   "metadata": {},
   "source": [
    "From the data, People suffering from mental issues are 85% in comparison to the ones that are free from the depressed emotions"
   ]
  },
  {
   "cell_type": "code",
   "execution_count": null,
   "id": "f7f30b58",
   "metadata": {},
   "outputs": [],
   "source": []
  }
 ],
 "metadata": {
  "kernelspec": {
   "display_name": "Python 3 (ipykernel)",
   "language": "python",
   "name": "python3"
  },
  "language_info": {
   "codemirror_mode": {
    "name": "ipython",
    "version": 3
   },
   "file_extension": ".py",
   "mimetype": "text/x-python",
   "name": "python",
   "nbconvert_exporter": "python",
   "pygments_lexer": "ipython3",
   "version": "3.9.12"
  }
 },
 "nbformat": 4,
 "nbformat_minor": 5
}
